{
 "cells": [
  {
   "cell_type": "markdown",
   "metadata": {
    "cell_id": "00000-d22b7285-fa3c-4bb4-b72a-b563e76b6ce4",
    "deepnote_cell_type": "code",
    "tags": []
   },
   "source": [
    "# Levels \n",
    "\n",
    "They are a website with job salaries, ladder and perks of well known companies"
   ]
  },
  {
   "cell_type": "markdown",
   "metadata": {},
   "source": [
    "## Data preparation\n",
    "\n",
    "1. Create a new category to classify **position_type**"
   ]
  },
  {
   "cell_type": "code",
   "execution_count": 3,
   "metadata": {},
   "outputs": [],
   "source": [
    "from load_levels import positions_df, benefits_df, classify_position\n",
    "import pandas as pd\n",
    "\n",
    "positions_df['position'] = positions_df['position'].map(lambda p : p.strip())\n",
    "positions_df['currency'] = 'USD'\n",
    "positions_df['position_type'] = positions_df['position'].map(classify_position)"
   ]
  },
  {
   "cell_type": "markdown",
   "metadata": {},
   "source": [
    "## Positions with salary (min, max, mean)"
   ]
  },
  {
   "cell_type": "code",
   "execution_count": null,
   "metadata": {
    "cell_id": "00001-84a8cba7-30e6-405a-97c4-c3aef7c188c1",
    "deepnote_cell_type": "code",
    "deepnote_to_be_reexecuted": false,
    "execution_millis": 85,
    "execution_start": 1639440460109,
    "source_hash": "fc5aec87",
    "tags": []
   },
   "outputs": [],
   "source": [
    "positions_by_salary = positions_df.groupby('position_type')['salary']\\\n",
    "    .agg(quantity_records='count', minimum='min', maximum='max', mean='mean')\\\n",
    "\n",
    "positions_by_salary.sort_values('quantity_records', ascending=False)"
   ]
  }
 ],
 "metadata": {
  "deepnote": {
   "is_reactive": false
  },
  "deepnote_execution_queue": [],
  "deepnote_notebook_id": "5357ae96-43ac-48e7-b002-22bca5100971",
  "interpreter": {
   "hash": "daa20e794fa7eb70b287ba7521cfa60652af6223d8b3e0f3c9a3e1d28c6f74c5"
  },
  "kernelspec": {
   "display_name": "Python 3.10.0 64-bit ('.python_modules': venv)",
   "language": "python",
   "name": "python3"
  },
  "language_info": {
   "codemirror_mode": {
    "name": "ipython",
    "version": 3
   },
   "file_extension": ".py",
   "mimetype": "text/x-python",
   "name": "python",
   "nbconvert_exporter": "python",
   "pygments_lexer": "ipython3",
   "version": "3.10.0"
  },
  "orig_nbformat": 2
 },
 "nbformat": 4,
 "nbformat_minor": 2
}
